{
  "cells": [
    {
      "cell_type": "markdown",
      "metadata": {
        "id": "view-in-github",
        "colab_type": "text"
      },
      "source": [
        "<a href=\"https://colab.research.google.com/github/ricardogalindoestevez-arch/prueba/blob/main/06_10_4_APPLE_2.ipynb\" target=\"_parent\"><img src=\"https://colab.research.google.com/assets/colab-badge.svg\" alt=\"Open In Colab\"/></a>"
      ]
    },
    {
      "cell_type": "markdown",
      "source": [
        "¡Perfecto\\! Usar **Google Colab** es una excelente idea, ya que elimina la necesidad de que los alumnos instalen software y les permite colaborar y compartir notebooks fácilmente. 💻 Para que practiquen más, he diseñado un plan de análisis de datos con más pasos, usando el mismo conjunto de datos de precios de acciones de **Apple (AAPL)**.\n",
        "\n",
        "Este plan guía a los alumnos a través de un **proceso de análisis de datos** más completo, desde la adquisición hasta la interpretación.\n",
        "\n",
        "-----\n",
        "\n",
        "### **Paso 1: Configuración del Entorno y Carga de Datos**\n",
        "\n",
        "En este primer paso, los alumnos aprenderán a instalar bibliotecas necesarias en un entorno de Colab y a cargar datos financieros de una fuente pública.\n",
        "\n",
        "1.  **Instalar la biblioteca `yfinance`:** Colab no la trae por defecto. Esto les enseña a usar el comando `pip` en un notebook."
      ],
      "metadata": {
        "id": "bT2ej8NoJdIo"
      }
    },
    {
      "cell_type": "code",
      "source": [
        "!pip install yfinance"
      ],
      "outputs": [],
      "execution_count": null,
      "metadata": {
        "id": "LepsHbcgJdIz"
      }
    },
    {
      "cell_type": "markdown",
      "source": [
        "2.  **Importar las bibliotecas:** Es una buena práctica agrupar las importaciones al principio."
      ],
      "metadata": {
        "id": "U4eDAZVCJdI2"
      }
    },
    {
      "cell_type": "code",
      "source": [
        "import yfinance as yf\n",
        "    import pandas as pd\n",
        "    import matplotlib.pyplot as plt"
      ],
      "outputs": [],
      "execution_count": null,
      "metadata": {
        "id": "c_puATfKJdI3"
      }
    },
    {
      "cell_type": "markdown",
      "source": [
        "3.  **Descargar los datos:** Usarán `yfinance` para obtener el historial de precios de Apple. Pueden modificar el rango de fechas para ver cómo cambia el conjunto de datos."
      ],
      "metadata": {
        "id": "oqzT6wPcJdI3"
      }
    },
    {
      "cell_type": "code",
      "source": [
        "ticker = 'AAPL'\n",
        "    start_date = '2022-01-01'\n",
        "    end_date = '2023-01-01'\n",
        "\n",
        "    df = yf.download(ticker, start=start_date, end=end_date)\n",
        "    print(\"Datos cargados. Echa un vistazo a las primeras filas:\")\n",
        "    print(df.head())"
      ],
      "outputs": [],
      "execution_count": null,
      "metadata": {
        "id": "y43mj5q5JdI9"
      }
    },
    {
      "cell_type": "markdown",
      "source": [
        "-----\n",
        "\n",
        "### **Paso 2: Exploración y Limpieza de Datos**\n",
        "\n",
        "Aquí, el objetivo es que los alumnos se familiaricen con los datos y busquen posibles problemas.\n",
        "\n",
        "1.  **Explorar la estructura del DataFrame:** Usarán `df.info()` para ver los tipos de datos y si hay valores nulos."
      ],
      "metadata": {
        "id": "c67RUoroJdI9"
      }
    },
    {
      "cell_type": "code",
      "source": [
        "print(\"\\nInformación general del DataFrame:\")\n",
        "    df.info()"
      ],
      "outputs": [],
      "execution_count": null,
      "metadata": {
        "id": "0T2JguJGJdI-"
      }
    },
    {
      "cell_type": "markdown",
      "source": [
        "2.  **Verificar valores atípicos (outliers):** Les pedirás que examinen la columna `Volume` (volumen de transacciones), ya que a veces puede tener picos inusuales.\n",
        "\n",
        "      * **Pregunta de práctica:** \"Usa `df.describe()` para obtener un resumen estadístico de la columna `Volume`. ¿Observas algún valor máximo que te parezca muy elevado?\"\n",
        "\n",
        "    <!-- end list -->"
      ],
      "metadata": {
        "id": "DJtCcUH1JdI_"
      }
    },
    {
      "cell_type": "code",
      "source": [
        "print(\"\\nResumen estadístico del volumen:\")\n",
        "    print(df['Volume'].describe())"
      ],
      "outputs": [],
      "execution_count": null,
      "metadata": {
        "id": "YQKaQ8B1JdJE"
      }
    },
    {
      "cell_type": "markdown",
      "source": [
        "-----\n",
        "\n",
        "### **Paso 3: Análisis y Manipulación de Datos**\n",
        "\n",
        "Este es el corazón del ejercicio. Los alumnos harán cálculos y transformaciones para extraer información valiosa.\n",
        "\n",
        "1.  **Crear una nueva columna para el retorno diario:** Esta es una métrica clave en finanzas."
      ],
      "metadata": {
        "id": "oY3yoEB2JdJF"
      }
    },
    {
      "cell_type": "code",
      "source": [
        "df['Daily_Return'] = df['Close'].pct_change()\n",
        "    print(\"\\nDataFrame con la nueva columna 'Daily_Return':\")\n",
        "    print(df.head())"
      ],
      "outputs": [],
      "execution_count": null,
      "metadata": {
        "id": "O-hZFrxQJdJF"
      }
    },
    {
      "cell_type": "markdown",
      "source": [
        "2.  **Calcular medias móviles (Moving Averages):** Una herramienta fundamental en el análisis técnico. Les pedirás que calculen una media móvil de 20 días. Esto les enseña a usar funciones de ventana."
      ],
      "metadata": {
        "id": "w7oJzArsJdJF"
      }
    },
    {
      "cell_type": "code",
      "source": [
        "df['MA_20'] = df['Close'].rolling(window=20).mean()\n",
        "    print(\"\\nDataFrame con la media móvil de 20 días:\")\n",
        "    print(df.tail())"
      ],
      "outputs": [],
      "execution_count": null,
      "metadata": {
        "id": "G9HkXNchJdJG"
      }
    },
    {
      "cell_type": "markdown",
      "source": [
        "3.  **Filtrar el DataFrame:** Les pedirás que encuentren los días en los que el precio de cierre fue superior a su media móvil de 20 días."
      ],
      "metadata": {
        "id": "tWh0Ujr_JdJG"
      }
    },
    {
      "cell_type": "code",
      "source": [
        "dias_alcistas = df[df['Close'] > df['MA_20']]\n",
        "    print(\"\\nDías donde el precio de cierre superó la media móvil de 20 días:\")\n",
        "    print(dias_alcistas.head())"
      ],
      "outputs": [],
      "execution_count": null,
      "metadata": {
        "id": "sQdnMoToJdJG"
      }
    },
    {
      "cell_type": "markdown",
      "source": [
        "-----\n",
        "\n",
        "### **Paso 4: Visualización de Datos**\n",
        "\n",
        "La visualización es crucial para comunicar los resultados del análisis.\n",
        "\n",
        "1.  **Graficar el precio de cierre y la media móvil:** Esto les permitirá ver visualmente la relación entre ambos."
      ],
      "metadata": {
        "id": "vxOURzlOJdJG"
      }
    },
    {
      "cell_type": "code",
      "source": [
        "plt.figure(figsize=(12, 6))\n",
        "    plt.plot(df.index, df['Close'], label='Precio de Cierre')\n",
        "    plt.plot(df.index, df['MA_20'], label='Media Móvil de 20 días', color='orange')\n",
        "    plt.title('Precio de Cierre de AAPL vs. Media Móvil')\n",
        "    plt.xlabel('Fecha')\n",
        "    plt.ylabel('Precio (USD)')\n",
        "    plt.legend()\n",
        "    plt.grid(True)\n",
        "    plt.show()"
      ],
      "outputs": [],
      "execution_count": null,
      "metadata": {
        "id": "T4hlEfcMJdJH"
      }
    },
    {
      "cell_type": "markdown",
      "source": [
        "2.  **Visualizar la distribución de los retornos diarios:** Les ayudará a entender el riesgo y la volatilidad."
      ],
      "metadata": {
        "id": "xjd6s56uJdJH"
      }
    },
    {
      "cell_type": "code",
      "source": [
        "plt.figure(figsize=(8, 5))\n",
        "    df['Daily_Return'].plot(kind='hist', bins=50, title='Distribución de Retornos Diarios')\n",
        "    plt.xlabel('Retorno Diario')\n",
        "    plt.show()"
      ],
      "outputs": [],
      "execution_count": null,
      "metadata": {
        "id": "cwR3xq3kJdJH"
      }
    },
    {
      "cell_type": "markdown",
      "source": [
        "-----\n",
        "\n",
        "### **Paso 5: Conclusiones y Análisis**\n",
        "\n",
        "Finalmente, los alumnos deberán interpretar los resultados obtenidos.\n",
        "\n",
        "  * **Pregunta de práctica:** \"¿Qué puedes concluir del gráfico de precios y la media móvil? ¿Cuándo consideras que fue un buen momento para comprar o vender según esta estrategia?\"\n",
        "  * **Pregunta de práctica:** \"Observando el histograma de retornos, ¿los retornos son simétricos o hay más días con retornos negativos o positivos? ¿Qué te dice esto sobre el riesgo de la acción?\"\n",
        "\n",
        "Este enfoque más detallado en Google Colab permite a los alumnos no solo escribir código, sino también **pensar como analistas de datos**, siguiendo un flujo de trabajo lógico y extrayendo conclusiones significativas de la información."
      ],
      "metadata": {
        "id": "lvZ4UFHQJdJH"
      }
    }
  ],
  "metadata": {
    "colab": {
      "provenance": [],
      "toc_visible": true,
      "include_colab_link": true
    },
    "kernelspec": {
      "display_name": "Python 3",
      "name": "python3"
    }
  },
  "nbformat": 4,
  "nbformat_minor": 0
}